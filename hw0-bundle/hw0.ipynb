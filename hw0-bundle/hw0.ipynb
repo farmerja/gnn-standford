{
  "nbformat": 4,
  "nbformat_minor": 0,
  "metadata": {
    "colab": {
      "name": "hw0.ipynb",
      "provenance": [],
      "collapsed_sections": []
    },
    "kernelspec": {
      "name": "python3",
      "display_name": "Python 3"
    },
    "language_info": {
      "name": "python"
    }
  },
  "cells": [
    {
      "cell_type": "markdown",
      "metadata": {
        "id": "ZucZYIuB2rRk"
      },
      "source": [
        "# Analyzing Wikipedia voter network"
      ]
    },
    {
      "cell_type": "markdown",
      "metadata": {
        "id": "rjbNHyyD2KDC"
      },
      "source": [
        "Download the Wikipedia voting network wiki-Vote.txt.gz: http://snap.stanford.edu/ data/wiki-Vote.html.\n",
        "\n",
        "Using one of the network analysis tools above, load the Wikipedia voting network. Note that Wikipedia is a directed network. Formally, we consider the Wikipedia network as a directed graph G = (V, E), with node set V and edge set E ⊂ V × V where (edges are ordered pairs of nodes). An edge (a, b) ∈ E means that user a voted on user b.\n",
        "\n",
        "To make our questions clearer, we will use the following small graph as a running example: Gsmall = (Vsmall, Esmall), where Vsmall = {1, 2, 3} and Esmall = {(1, 2), (2, 1), (1, 3), (1, 1)}.\n",
        "\n",
        "Compute and print out the following statistics for the wiki-Vote network: \n",
        "\n",
        "1. The number of nodes in the network. (Gsmall has 3 nodes.)\n",
        "\n",
        "2. The number of nodes with a self-edge (self-loop), i.e., the number of nodes a ∈ V where (a, a) ∈ E. (Gsmall has 1 self-edge.)\n",
        "\n",
        "3. The number of directed edges in the network, i.e., the number of ordered pairs (a, b) ∈ E for which a ̸= b. (Gsmall has 3 directed edges.)\n",
        " \n",
        "4. The number of undirected edges in the network, i.e., the number of unique unordered pairs (a,b), a ̸= b, for which (a,b) ∈ E or (b,a) ∈ E (or both). If both (a,b) and (b,a) are edges, this counts a single undirected edge. (Gsmall has 2 undirected edges.)\n",
        "\n",
        "5. The number of reciprocated edges in the network, i.e., the number of unique unordered pairs of nodes (a, b), a ̸= b, for which (a, b) ∈ E and (b, a) ∈ E. (Gsmall has 1 reciprocated edge.)\n",
        "\n",
        "6. The number of nodes of zero out-degree. (Gsmall has 1 node with zero out-degree.)\n",
        "\n",
        "7. The number of nodes of zero in-degree. (Gsmall has 0 nodes with zero in-degree.)\n",
        "\n",
        "8. The number of nodes with more than 10 outgoing edges (out-degree > 10).\n",
        "\n",
        "9. The number of nodes with fewer than 10 incoming edges (in-degree < 10).\n",
        "\n",
        "Each sub-question is worth 3 points."
      ]
    },
    {
      "cell_type": "code",
      "metadata": {
        "id": "oAhsR8UX3JW_"
      },
      "source": [
        "import snap\n",
        "import numpy as np"
      ],
      "execution_count": 10,
      "outputs": []
    },
    {
      "cell_type": "code",
      "metadata": {
        "id": "TgCcbIZm4P0O"
      },
      "source": [
        "from google.colab import drive"
      ],
      "execution_count": 2,
      "outputs": []
    },
    {
      "cell_type": "code",
      "metadata": {
        "colab": {
          "base_uri": "https://localhost:8080/"
        },
        "id": "sGt2LMe-4Rfe",
        "outputId": "690a5e06-c85a-46cc-800b-d9bfb2bbc1f0"
      },
      "source": [
        "drive.mount('/content/drive/')"
      ],
      "execution_count": 3,
      "outputs": [
        {
          "output_type": "stream",
          "name": "stdout",
          "text": [
            "Drive already mounted at /content/drive/; to attempt to forcibly remount, call drive.mount(\"/content/drive/\", force_remount=True).\n"
          ]
        }
      ]
    },
    {
      "cell_type": "code",
      "metadata": {
        "id": "vYynwJBo2HnQ"
      },
      "source": [
        "G = snap.LoadEdgeList(snap.PNGraph, \"/content/drive/MyDrive/Colab Notebooks/Wiki-Vote.txt\", 0, 1)"
      ],
      "execution_count": 5,
      "outputs": []
    },
    {
      "cell_type": "code",
      "metadata": {
        "colab": {
          "base_uri": "https://localhost:8080/"
        },
        "id": "C-LuHf9P6GXp",
        "outputId": "b9acae11-7b12-4d38-92ae-4f61101311da"
      },
      "source": [
        "# Problem (1)\n",
        "\n",
        "G.GetNodes()"
      ],
      "execution_count": 9,
      "outputs": [
        {
          "output_type": "execute_result",
          "data": {
            "text/plain": [
              "7115"
            ]
          },
          "metadata": {},
          "execution_count": 9
        }
      ]
    },
    {
      "cell_type": "code",
      "metadata": {
        "colab": {
          "base_uri": "https://localhost:8080/"
        },
        "id": "uTbW95po6_21",
        "outputId": "4c90ff9c-cca1-4d51-fb90-6b2b06880ea7"
      },
      "source": [
        "# Problem (2)\n",
        "\n",
        "snap.CntSelfEdges(G)"
      ],
      "execution_count": 11,
      "outputs": [
        {
          "output_type": "execute_result",
          "data": {
            "text/plain": [
              "0"
            ]
          },
          "metadata": {},
          "execution_count": 11
        }
      ]
    },
    {
      "cell_type": "code",
      "metadata": {
        "colab": {
          "base_uri": "https://localhost:8080/"
        },
        "id": "eN_uyZ6e7ScV",
        "outputId": "80be2a3e-186d-4529-9a9a-f71d30e4defb"
      },
      "source": [
        "# Problem (3)\n",
        "\n",
        "snap.CntUniqDirEdges(G)"
      ],
      "execution_count": 13,
      "outputs": [
        {
          "output_type": "execute_result",
          "data": {
            "text/plain": [
              "103689"
            ]
          },
          "metadata": {},
          "execution_count": 13
        }
      ]
    },
    {
      "cell_type": "code",
      "metadata": {
        "colab": {
          "base_uri": "https://localhost:8080/"
        },
        "id": "XFXBSJF37_oq",
        "outputId": "90d647b2-81c7-4f80-c86b-f6744253901f"
      },
      "source": [
        "# Problem (4)\n",
        "\n",
        "snap.CntUniqUndirEdges(G)"
      ],
      "execution_count": 15,
      "outputs": [
        {
          "output_type": "execute_result",
          "data": {
            "text/plain": [
              "100762"
            ]
          },
          "metadata": {},
          "execution_count": 15
        }
      ]
    },
    {
      "cell_type": "code",
      "metadata": {
        "colab": {
          "base_uri": "https://localhost:8080/"
        },
        "id": "j2UxwFll7fE1",
        "outputId": "6031a729-7f42-4dcd-8653-641c7d6cc66d"
      },
      "source": [
        "# Problem (5)\n",
        "\n",
        "snap.CntUniqDirEdges(G) - snap.CntUniqUndirEdges(G)"
      ],
      "execution_count": 14,
      "outputs": [
        {
          "output_type": "execute_result",
          "data": {
            "text/plain": [
              "2927"
            ]
          },
          "metadata": {},
          "execution_count": 14
        }
      ]
    },
    {
      "cell_type": "code",
      "metadata": {
        "colab": {
          "base_uri": "https://localhost:8080/"
        },
        "id": "bNLo2_Tz8INL",
        "outputId": "2a688faa-aff8-4e7d-ab02-2eb1c4cbabb3"
      },
      "source": [
        "# Problem (6)\n",
        "\n",
        "snap.CntOutDegNodes(G,0)"
      ],
      "execution_count": 16,
      "outputs": [
        {
          "output_type": "execute_result",
          "data": {
            "text/plain": [
              "1005"
            ]
          },
          "metadata": {},
          "execution_count": 16
        }
      ]
    },
    {
      "cell_type": "code",
      "metadata": {
        "colab": {
          "base_uri": "https://localhost:8080/"
        },
        "id": "O-Ho_l7L8lxz",
        "outputId": "558003ed-5a13-4a13-c177-69a9f4074942"
      },
      "source": [
        "# Problem (7)\n",
        "\n",
        "snap.CntInDegNodes(G,0)"
      ],
      "execution_count": 19,
      "outputs": [
        {
          "output_type": "execute_result",
          "data": {
            "text/plain": [
              "4734"
            ]
          },
          "metadata": {},
          "execution_count": 19
        }
      ]
    },
    {
      "cell_type": "code",
      "metadata": {
        "colab": {
          "base_uri": "https://localhost:8080/"
        },
        "id": "rUUu-JKX8yrq",
        "outputId": "9114d6d5-4425-419f-fdf6-ced81f9cc834"
      },
      "source": [
        "# Problem (8,9)\n",
        "\n",
        "node_ten_out = 0\n",
        "node_ten_in = 0\n",
        "for i in G.Nodes():\n",
        "  if i.GetOutDeg() > 10:\n",
        "    node_ten_out += 1\n",
        "  if i.GetInDeg() < 10:\n",
        "    node_ten_in += 1\n",
        "print(\"nodes with > 10 outgoing edges \", node_ten_out) \n",
        "print(\"nodes with < 10 incoming edges \", node_ten_in)\n"
      ],
      "execution_count": 21,
      "outputs": [
        {
          "output_type": "stream",
          "name": "stdout",
          "text": [
            "nodes with > 10 outgoing edges  1612\n",
            "nodes with < 10 incoming edges  5165\n"
          ]
        }
      ]
    }
  ]
}