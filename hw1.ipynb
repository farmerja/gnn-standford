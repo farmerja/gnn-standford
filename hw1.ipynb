{
  "nbformat": 4,
  "nbformat_minor": 0,
  "metadata": {
    "colab": {
      "name": "hw1.ipynb",
      "provenance": []
    },
    "kernelspec": {
      "name": "python3",
      "display_name": "Python 3"
    },
    "language_info": {
      "name": "python"
    }
  },
  "cells": [
    {
      "cell_type": "markdown",
      "metadata": {
        "id": "hCneOrKsmCyx"
      },
      "source": [
        "# Network Characteristics\n",
        "One of the goals of network analysis is to find mathematical models that characterize real-world networks and that can then be used to generate new networks with similar properties. In this problem, we will explore two famous models—Erd ̋os-R ́enyi and Small World—and compare them to real-world data from an academic collaboration network. Note that in this problem all networks are undirected. You may use the starter code in hw1-q1-starter.py for this problem.\n",
        "\n",
        "• Erd ̋os-R ́enyi Random graph (G(n, m) random network): Generate a random instance of this model by using n = 5242 nodes and picking m = 14484 edges at random. Write code to construct instances of this model, i.e., do not call a SNAP function.\n",
        "\n",
        "• Small-World Random Network: Generate an instance from this model as follows: begin with n = 5242 nodes arranged as a ring, i.e., imagine the nodes form a circle and each node is connected to its two direct neighbors (e.g., node 399 is connected to nodes 398 and 400), giving us 5242 edges. Next, connect each node to the neighbors of its neighbors (e.g., node 399 is also connected to nodes 397 and 401). This gives us another 5242 edges. Finally, randomly select 4000 pairs of nodes not yet connected and add an edge between them. In total, this will make m = 5242 · 2 + 4000 = 14484 edges. Write code to construct instances of this model, i.e., do not call a SNAP function.\n",
        "\n",
        "• Real-World Collaboration Network: Download this undirected network from http://snap.stanford.edu/data/ca-GrQc.txt.gz. Nodes in this network represent authors of research papers on the arXiv in the General Relativity and Quantum Cosmology section. There is an edge between two authors if they have co-authored at least one paper together. Note that some edges may appear twice in the data, once for each direction. Ignoring repeats and self-edges, there are 5242 nodes and 14484 edges. (Note: Repeats are automatically ignored when loading an (un)directed graph with SNAP’s LoadEdgeList function).\n",
        "\n",
        "## 1.1 Degree Distribution \n",
        "Generate a random graph from both the Erd ̋os-R ́enyi (i.e., G(n, m)) and Small-World models and read in the collaboration network. Delete all of the self-edges in the collaboration network (there should be 14,484 total edges remaining).\n",
        "Plot the degree distribution of all three networks in the same plot on a log-log scale. In other words, generate a plot with the horizontal axis representing node degrees and the vertical axis representing the proportion of nodes with a given degree (by “log-log scale” we mean that both the horizontal and vertical axis must be in logarithmic scale). In one to two sentences, describe one key difference between the degree distribution of the collaboration network and the degree distributions of the random graph models.\n",
        "\n",
        "## 1.2 Clustering Coefficient \n",
        "Recall that the local clustering coefficient for a node vi was defined in class as\n",
        "\n",
        "􏰐 2|ei| Ci = ki·(ki−1)\n",
        "ki ≥ 2\n",
        "0 otherwise,\n",
        "\n",
        " where ki is the degree of node vi and ei is the number of edges between the neighbors of vi. The average clustering coefficient is defined as\n",
        "\n",
        "C= 1 􏰊Ci. |V | i∈V\n",
        "\n",
        "Compute and report the average clustering coefficient of the three networks. For this question, write your own implementation to compute the clustering coefficient, instead of using a built-in SNAP function.\n",
        "\n",
        "Which network has the largest clustering coefficient? In one to two sentences, explain. Think about the underlying process that generated the network.\n"
      ]
    },
    {
      "cell_type": "code",
      "metadata": {
        "colab": {
          "base_uri": "https://localhost:8080/"
        },
        "id": "Erg8UXXxM5sc",
        "outputId": "de5931c1-d276-47e2-e897-f5803bdfac73"
      },
      "source": [
        "pip install snap-stanford\n"
      ],
      "execution_count": null,
      "outputs": [
        {
          "output_type": "stream",
          "name": "stdout",
          "text": [
            "Requirement already satisfied: snap-stanford in /usr/local/lib/python3.7/dist-packages (6.0.0)\n"
          ]
        }
      ]
    },
    {
      "cell_type": "code",
      "metadata": {
        "id": "mqdpp2ubqHl9"
      },
      "source": [
        "import snap\n",
        "import numpy as np\n",
        "import matplotlib.pyplot as plt\n",
        "\n",
        "# Setup\n",
        "erdosRenyi = None\n",
        "smallWorld = None\n",
        "collabNet = None"
      ],
      "execution_count": null,
      "outputs": []
    },
    {
      "cell_type": "code",
      "metadata": {
        "id": "9rL8ZsyFqLbo"
      },
      "source": [
        "from google.colab import drive"
      ],
      "execution_count": null,
      "outputs": []
    },
    {
      "cell_type": "code",
      "metadata": {
        "colab": {
          "base_uri": "https://localhost:8080/"
        },
        "id": "i7bkxGhfqOIJ",
        "outputId": "730f0543-c5d4-4d2c-8161-97e4ba1f0702"
      },
      "source": [
        "drive.mount('/content/drive/')"
      ],
      "execution_count": null,
      "outputs": [
        {
          "output_type": "stream",
          "name": "stdout",
          "text": [
            "Drive already mounted at /content/drive/; to attempt to forcibly remount, call drive.mount(\"/content/drive/\", force_remount=True).\n"
          ]
        }
      ]
    },
    {
      "cell_type": "markdown",
      "metadata": {
        "id": "zecnUo32rKmx"
      },
      "source": [
        "## Problem 1.1\n"
      ]
    },
    {
      "cell_type": "code",
      "metadata": {
        "id": "Kr1KiO7Aqi9v"
      },
      "source": [
        "def genErdosRenyi(N=5242, E=14484):\n",
        "    \"\"\"\n",
        "    :param - N: number of nodes\n",
        "    :param - E: number of edges\n",
        "    return type: snap.PUNGraph\n",
        "    return: Erdos-Renyi graph with N nodes and E edges\n",
        "    \"\"\"\n",
        "    ############################################################################\n",
        "    # TODO: Your code here!\n",
        "\n",
        "    Graph = snap.PUNGraph.New()\n",
        "    for i in range(N):\n",
        "      Graph.AddNode(i)\n",
        "    \n",
        "    current_num_edges = 0\n",
        "    while current_num_edges < E:\n",
        "      randi = np.random.randint(0,N)\n",
        "      randj = np.random.randint(0,N)\n",
        "\n",
        "      if not Graph.IsEdge(randi,randj):\n",
        "        Graph.AddEdge(randi,randj)\n",
        "        current_num_edges = current_num_edges + 1\n",
        "\n",
        "    ############################################################################\n",
        "    return Graph\n"
      ],
      "execution_count": null,
      "outputs": []
    },
    {
      "cell_type": "code",
      "metadata": {
        "id": "jNyLr8aCqqxx"
      },
      "source": [
        "def genCircle(N=5242):\n",
        "    \"\"\"\n",
        "    :param - N: number of nodes\n",
        "    return type: snap.PUNGraph\n",
        "    return: Circle graph with N nodes and N edges. Imagine the nodes form a\n",
        "        circle and each node is connected to its two direct neighbors.\n",
        "    \"\"\"\n",
        "    ############################################################################\n",
        "    # TODO: Your code here!\n",
        "    \n",
        "    Graph = snap.PUNGraph.New()\n",
        "    for i in range(N):\n",
        "      Graph.AddNode(i)\n",
        "    for i in range(N-1):\n",
        "      Graph.AddEdge(i,(i+1))\n",
        "    Graph.AddEdge(i,i+1)\n",
        "    \n",
        "    ############################################################################\n",
        "    return Graph\n"
      ],
      "execution_count": null,
      "outputs": []
    },
    {
      "cell_type": "code",
      "metadata": {
        "id": "lFIlUWUVqtOM"
      },
      "source": [
        "def connectNbrOfNbr(Graph, N=5242):\n",
        "    \"\"\"\n",
        "    :param - Graph: snap.PUNGraph object representing a circle graph on N nodes\n",
        "    :param - N: number of nodes\n",
        "    return type: snap.PUNGraph\n",
        "    return: Graph object with additional N edges added by connecting each node\n",
        "        to the neighbors of its neighbors\n",
        "    \"\"\"\n",
        "    ############################################################################\n",
        "    # TODO: Your code here!\n",
        "\n",
        "    for i in range(N):\n",
        "      Graph.AddEdge(i,(i+2) % N)\n",
        "\n",
        "    ############################################################################\n",
        "    return Graph\n"
      ],
      "execution_count": null,
      "outputs": []
    },
    {
      "cell_type": "code",
      "metadata": {
        "id": "TU-XWK21qxW0"
      },
      "source": [
        "def connectRandomNodes(Graph, M=4000):\n",
        "    \"\"\"\n",
        "    :param - Graph: snap.PUNGraph object representing an undirected graph\n",
        "    :param - M: number of edges to be added\n",
        "    return type: snap.PUNGraph\n",
        "    return: Graph object with additional M edges added by connecting M randomly\n",
        "        selected pairs of nodes not already connected.\n",
        "    \"\"\"\n",
        "    ############################################################################\n",
        "    # TODO: Your code here!\n",
        "\n",
        "    N = Graph.GetNodes()\n",
        "    num_edges_added = 0 \n",
        "    while num_edges_added < M:\n",
        "      randi = np.random.randint(0,N)\n",
        "      randj = np.random.randint(0,N)\n",
        "\n",
        "      if not Graph.IsEdge(randi,randj):\n",
        "        Graph.AddEdge(randi,randj)\n",
        "        num_edges_added = num_edges_added + 1\n",
        "\n",
        "    ############################################################################\n",
        "    return Graph"
      ],
      "execution_count": null,
      "outputs": []
    },
    {
      "cell_type": "code",
      "metadata": {
        "id": "2GsOPBg5qzpy"
      },
      "source": [
        "def genSmallWorld(N=5242, E=14484):\n",
        "    \"\"\"\n",
        "    :param - N: number of nodes\n",
        "    :param - E: number of edges\n",
        "    return type: snap.PUNGraph\n",
        "    return: Small-World graph with N nodes and E edges\n",
        "    \"\"\"\n",
        "    Graph = genCircle(N)\n",
        "    Graph = connectNbrOfNbr(Graph, N)\n",
        "    Graph = connectRandomNodes(Graph, 4000)\n",
        "    #Graph = small_world_graph(N, E)\n",
        "    return Graph\n"
      ],
      "execution_count": null,
      "outputs": []
    },
    {
      "cell_type": "code",
      "metadata": {
        "id": "gD04U6w1q2W5"
      },
      "source": [
        "def loadCollabNet(path):\n",
        "    \"\"\"\n",
        "    :param - path: path to edge list file\n",
        "    return type: snap.PUNGraph\n",
        "    return: Graph loaded from edge list at `path and self edges removed\n",
        "    Do not forget to remove the self edges!\n",
        "    \"\"\"\n",
        "    ############################################################################\n",
        "    # TODO: Your code here!\n",
        "    Graph = snap.LoadEdgeList(snap.PUNGraph, path, 0, 1)\n",
        "    for item in Graph.Edges():\n",
        "      if item.GetSrcNId() == item.GetDstNId():\n",
        "        Graph.DelEdge(item.GetSrcNId(),item.GetDstNId())\n",
        "    ############################################################################\n",
        "    return Graph\n"
      ],
      "execution_count": null,
      "outputs": []
    },
    {
      "cell_type": "code",
      "metadata": {
        "id": "pmFIDu4kq6GE"
      },
      "source": [
        "def getDataPointsToPlot(Graph):\n",
        "    \"\"\"\n",
        "    :param - Graph: snap.PUNGraph object representing an undirected graph\n",
        "    return values:\n",
        "    X: list of degrees\n",
        "    Y: list of frequencies: Y[i] = fraction of nodes with degree X[i]\n",
        "    \"\"\"\n",
        "    ############################################################################\n",
        "    # TODO: Your code here!\n",
        "    X, Y = [], []\n",
        "    DegToCntV = snap.TIntPrV()\n",
        "    snap.GetDegCnt(Graph,DegToCntV)\n",
        "    for item in DegToCntV:\n",
        "      X.append(item.GetVal1())\n",
        "      Y.append(item.GetVal2())\n",
        "\n",
        "    ############################################################################\n",
        "    return X, Y\n"
      ],
      "execution_count": null,
      "outputs": []
    },
    {
      "cell_type": "code",
      "metadata": {
        "colab": {
          "base_uri": "https://localhost:8080/",
          "height": 299
        },
        "id": "x33piHKOq62v",
        "outputId": "47c5357a-9a67-4400-94ae-495565da3302"
      },
      "source": [
        "\n",
        "global erdosRenyi, smallWorld, collabNet\n",
        "erdosRenyi = genErdosRenyi(5242, 14484)\n",
        "smallWorld = genSmallWorld(5242, 14484)\n",
        "collabNet = loadCollabNet(\"/content/drive/MyDrive/ColabNotebooks/CA-GrQc.txt\")\n",
        "\n",
        "x_erdosRenyi, y_erdosRenyi = getDataPointsToPlot(erdosRenyi)\n",
        "plt.loglog(x_erdosRenyi, y_erdosRenyi, color = 'y', label = 'Erdos Renyi Network')\n",
        "\n",
        "x_smallWorld, y_smallWorld = getDataPointsToPlot(smallWorld)\n",
        "plt.loglog(x_smallWorld, y_smallWorld, linestyle = 'dashed', color = 'r', label = 'Small World Network')\n",
        "\n",
        "x_collabNet, y_collabNet = getDataPointsToPlot(collabNet)\n",
        "plt.loglog(x_collabNet, y_collabNet, linestyle = 'dotted', color = 'b', label = 'Collaboration Network')\n",
        "\n",
        "plt.xlabel('Node Degree (log)')\n",
        "plt.ylabel('Proportion of Nodes with a Given Degree (log)')\n",
        "plt.title('Degree Distribution of Erdos Renyi, Small World, and Collaboration Networks')\n",
        "plt.legend()\n",
        "plt.show()"
      ],
      "execution_count": null,
      "outputs": [
        {
          "output_type": "display_data",
          "data": {
            "image/png": "[encoded data removed]",
            "text/plain": [
              "<Figure size 432x288 with 1 Axes>"
            ]
          },
          "metadata": {
            "needs_background": "light"
          }
        }
      ]
    },
    {
      "cell_type": "markdown",
      "metadata": {
        "id": "eZUC9-yErHZN"
      },
      "source": [
        "## Problem 1.2 - Clustering Coefficient\n"
      ]
    },
    {
      "cell_type": "code",
      "metadata": {
        "id": "J_CtVWiErDTc"
      },
      "source": [
        "def calcClusteringCoefficientSingleNode(Node, Graph):\n",
        "    \"\"\"\n",
        "    :param - Node: node from snap.PUNGraph object. Graph.Nodes() will give an\n",
        "                   iterable of nodes in a graph\n",
        "    :param - Graph: snap.PUNGraph object representing an undirected graph\n",
        "    return type: float\n",
        "    returns: local clustering coeffient of Node\n",
        "    \"\"\"\n",
        "    ############################################################################\n",
        "    # TODO: Your code here!\n",
        "    C = 0.0\n",
        "\n",
        "    ############################################################################\n",
        "    return C"
      ],
      "execution_count": null,
      "outputs": []
    },
    {
      "cell_type": "code",
      "metadata": {
        "id": "wezRss9crdIf"
      },
      "source": [
        "def calcClusteringCoefficient(Graph):\n",
        "    \"\"\"\n",
        "    :param - Graph: snap.PUNGraph object representing an undirected graph\n",
        "    return type: float\n",
        "    returns: clustering coeffient of Graph\n",
        "    \"\"\"\n",
        "    ############################################################################\n",
        "    # TODO: Your code here! If you filled out calcClusteringCoefficientSingleNode,\n",
        "    #       you'll probably want to call it in a loop here\n",
        "    C = 0.0\n",
        "\n",
        "    ############################################################################\n",
        "    return C"
      ],
      "execution_count": null,
      "outputs": []
    },
    {
      "cell_type": "code",
      "metadata": {
        "id": "yvCqLhq4rgqQ"
      },
      "source": [
        "\n",
        "C_erdosRenyi = calcClusteringCoefficient(erdosRenyi)\n",
        "C_smallWorld = calcClusteringCoefficient(smallWorld)\n",
        "C_collabNet = calcClusteringCoefficient(collabNet)\n",
        "\n",
        "print('Clustering Coefficient for Erdos Renyi Network: %f' % C_erdosRenyi)\n",
        "print('Clustering Coefficient for Small World Network: %f' % C_smallWorld)\n",
        "print('Clustering Coefficient for Collaboration Network: %f' % C_collabNet)\n"
      ],
      "execution_count": null,
      "outputs": []
    }
  ]
}